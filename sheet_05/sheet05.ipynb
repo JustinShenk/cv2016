{
 "cells": [
  {
   "cell_type": "markdown",
   "metadata": {},
   "source": [
    "Osnabrück University - Computer Vision (Winter Term 2016/17) - Prof. Dr.-Ing. G. Heidemann, Ulf Krumnack"
   ]
  },
  {
   "cell_type": "markdown",
   "metadata": {},
   "source": [
    "# Exercise Sheet 05: Segmentation 2"
   ]
  },
  {
   "cell_type": "markdown",
   "metadata": {},
   "source": [
    "## Introduction\n",
    "\n",
    "This week's sheet should be solved and handed in before the end of **Sunday, December 11, 2016**. If you need help (and Google and other resources were not enough), feel free to contact your groups' designated tutor or whomever of us you run into first. Please upload your results to your group's Stud.IP folder."
   ]
  },
  {
   "cell_type": "markdown",
   "metadata": {},
   "source": [
    "## Assignment 0: Math recap (Periodic functions) [0 Points]\n",
    "\n",
    "This exercise is supposed to be very easy, does not give any points, and is voluntary. There will be a similar exercise on every sheet. It is intended to revise some basic mathematical notions that are assumed throughout this class and to allow you to check if you are comfortable with them. Usually you should have no problem to answer these questions offhand, but if you feel unsure, this is a good time to look them up again. You are always welcome to discuss questions with the tutors or in the practice session. Also, if you have a (math) topic you would like to recap, please let us know."
   ]
  },
  {
   "cell_type": "markdown",
   "metadata": {},
   "source": [
    "**a)** What are periodic functions? Can you provide a definition?"
   ]
  },
  {
   "cell_type": "raw",
   "metadata": {
    "collapsed": true,
    "solution": true
   },
   "source": [
    "FIXME: change cell type to 'Markdown' and put your answer here!"
   ]
  },
  {
   "cell_type": "markdown",
   "metadata": {},
   "source": [
    "**b)** What are *amplitude*, *frequency*, *wave length*, and *phase* of a sine function? How can you change these properties?"
   ]
  },
  {
   "cell_type": "raw",
   "metadata": {
    "collapsed": true,
    "solution": true
   },
   "source": [
    "FIXME: change cell type to 'Markdown' and put your answer here!"
   ]
  },
  {
   "cell_type": "markdown",
   "metadata": {},
   "source": [
    "**c)** How are sine and cosine defined for complex arguments? In what sense does this generalize the real case?"
   ]
  },
  {
   "cell_type": "raw",
   "metadata": {
    "collapsed": true,
    "solution": true
   },
   "source": [
    "FIXME: change cell type to 'Markdown' and put your answer here!"
   ]
  },
  {
   "cell_type": "markdown",
   "metadata": {},
   "source": [
    "## Assignment 1: Multiscale representation [8 Points]"
   ]
  },
  {
   "cell_type": "markdown",
   "metadata": {},
   "source": [
    "**a)** What is a *scale space*? What is a multiscale representation? What is the motivation for a multiscale strategy in the context of segmentation?"
   ]
  },
  {
   "cell_type": "markdown",
   "metadata": {
    "collapsed": true,
    "solution": true
   },
   "source": [
    "Multiscale representations are based on the idea that patterns can be expressive on multiple scales. The image is therefore represented on multiple scales (we scale down the original image). Segmentation in this context relies on homogeneity on multiple scales. Scale space is a generalization of the discrete scales used for the gaussian/laplacian pyramid to a continuous scale space."
   ]
  },
  {
   "cell_type": "markdown",
   "metadata": {},
   "source": [
    "**b)** What is the *Gaussian pyramid*? How does the **reduce** operation work? Explain in your own words what low pass filtering is and why it should be used when building the pyramid? Implement the **reduce** operation and generate a figure similar to the one on (CV-07 slide 32)."
   ]
  },
  {
   "cell_type": "markdown",
   "metadata": {
    "collapsed": true,
    "solution": true
   },
   "source": [
    "We take an image and reduce it multiple times. The reduction is working by replacing four pixels of the current level with one pixel in the next level. Thereby we reduce the size of an image to half its length/width and a quarter of its size. These layers on top of each other yield the pyramid. It is called a gaussian pyramid, if we use a Gaussian filter before the reduction. Low pass filtering removes noise and high frequencies, so that the resulting picture is better suited for the following reduction."
   ]
  },
  {
   "cell_type": "code",
   "execution_count": null,
   "metadata": {
    "collapsed": false
   },
   "outputs": [],
   "source": [
    "import numpy as np\n",
    "from scipy import misc\n",
    "import matplotlib.pyplot as plt\n",
    "from scipy.ndimage.filters import gaussian_filter\n",
    "img = misc.imread('mermaid.png', mode='F')\n",
    "sigma = 1\n",
    "filtered = gaussian_filter(img,sigma)\n",
    "scales = 3\n",
    "\n",
    "# Initialize recursive relations.\n",
    "pyramid_image = filtered\n",
    "\n",
    "for rowIndex in range(0,filtered.shape[0]-1,2):\n",
    "    for colIndex in range(0,filtered.shape[1]-1):\n",
    "        # Sum 4-square region.\n",
    "        pixelSum = filtered[rowIndex,colIndex] + filtered[rowIndex+1,colIndex] + filtered[rowIndex,colIndex+1] + filtered[rowIndex+1,colIndex+1]\n",
    "        \n",
    "        # Overwrite pyramid image.\n",
    "        pyramid_image[filtered.shape[0]/2+rowIndex/2,colIndex/2] = pixelSum/4\n",
    "\n",
    "plt.gray()\n",
    "plt.imshow(img)\n",
    "plt.show()\n",
    "plt.imshow(pyramid_image)\n",
    "plt.title('Sigma = '+str(sigma))\n",
    "plt.show()"
   ]
  },
  {
   "cell_type": "markdown",
   "metadata": {},
   "source": [
    "**c)** What is the **expand** operation? Why can the **reduce** operation not be inverted? Implement the **expand** operation and generate an image similar to the one on (CV-07 slide 34)."
   ]
  },
  {
   "cell_type": "markdown",
   "metadata": {
    "collapsed": true,
    "solution": true
   },
   "source": [
    "Expand can be seen as the complementary operation to reduction. We try to rebuild the next bigger layer from a smaller layer. Since we cannot retain the pixel information from the 4 pixels we used during the reduction step, it cannot be inverted. By resizing we are basically only rescaling the image to a bigger size, so we are blurring it up."
   ]
  },
  {
   "cell_type": "code",
   "execution_count": null,
   "metadata": {
    "collapsed": false
   },
   "outputs": [],
   "source": [
    "import numpy as np\n",
    "from scipy import misc\n",
    "import matplotlib.pyplot as plt\n",
    "from scipy.ndimage.filters import gaussian_filter\n",
    "\n",
    "img = misc.imread('mermaid.png', mode='F')\n",
    "\n",
    "# filtered = pyramid_image\n",
    "sigma = 1\n",
    "filtered = gaussian_filter(img,sigma)\n",
    "original = pyramid_image.copy()\n",
    "#expansion \n",
    "for rowIndex in range(filtered.shape[0]-1, 0, -2):\n",
    "    for colIndex in range(filtered.shape[1]-1, 0):\n",
    "\n",
    "#         # = (filtered[rowIndex,colIndex]+filtered[rowIndex+1,colIndex]+filtered[rowIndex,colIndex+1]+filtered[rowIndex+1,colIndex+1])/4\n",
    "        interpolated1 = (pyramid_image[rowIndex,colIndex]+pyramid_image[rowIndex-1,colIndex+1])/2 # Top right.\n",
    "        interpolated2 = (pyramid_image[rowIndex,colIndex]+pyramid_image[rowIndex-1,colIndex])/2 # Top.\n",
    "        interpolated3 = (pyramid_image[rowIndex,colIndex]+pyramid_image[rowIndex+1,colIndex])/2 # Bottom.\n",
    "        interpolated4 = pyramid_image[rowIndex,colIndex] # Center.\n",
    "#         interpolated5 = (pyramid_image[rowIndex,colIndex]+pyramid_image[rowIndex,colIndex-1])/2 # Left.\n",
    "#         interpolated8 = (pyramid_image[rowIndex,colIndex]+pyramid_image[rowIndex-1,colIndex-1])/2 # Top left.\n",
    "#         interpolated8 = (pyramid_image[rowIndex,colIndex]+pyramid_image[rowIndex-1,colIndex-1])/2 # Bottomleft.\n",
    "#         interpolated6 = (pyramid_image[rowIndex,colIndex]+pyramid_image[rowIndex,colIndex+1])/2 # Right.\n",
    "#         interpolated7 = (pyramid_image[rowIndex,colIndex]+pyramid_image[rowIndex+1,colIndex+1])/2 # Bottom right.\n",
    "        pyramid_image[filtered.shape[0]/2-rowIndex/2, colIndex*2] = interpolated1\n",
    "        pyramid_image[filtered.shape[0]/2-rowIndex/2, colIndex*2] = interpolated2\n",
    "        pyramid_image[filtered.shape[0]/2-rowIndex/2, colIndex*2] = interpolated3\n",
    "        pyramid_image[filtered.shape[0]/2-rowIndex/2, colIndex*2] = interpolated4\n",
    "        #pyramid_image[filtered.shape[0]/2+rowIndex/2, colIndex/2] = interpolated1\n",
    "        #pyramid_image[filtered.shape[0]/2+rowIndex/2, colIndex/2] = interpolated2\n",
    "        #pyramid_image[filtered.shape[0]/2+rowIndex/2, colIndex/2] = interpolated3\n",
    "        #pyramid_image[filtered.shape[0]/2+rowIndex/2, colIndex/2] = interpolated4\n",
    "\n",
    "plt.gray()\n",
    "plt.imshow(filtered)\n",
    "plt.show()\n",
    "plt.imshow(pyramid_image)\n",
    "plt.show()"
   ]
  },
  {
   "cell_type": "markdown",
   "metadata": {},
   "source": [
    "**d)** What is the *Laplacian pyramid*? What is it used for? Compute the Laplacian pyramid and generate an image similar to the one on (CV-07 slide 36)."
   ]
  },
  {
   "cell_type": "raw",
   "metadata": {
    "collapsed": true,
    "solution": true
   },
   "source": [
    "FIXME: change cell type to 'Markdown' and put your answer here!"
   ]
  },
  {
   "cell_type": "code",
   "execution_count": null,
   "metadata": {
    "collapsed": false
   },
   "outputs": [],
   "source": [
    "import numpy as np\n",
    "from scipy import misc\n",
    "import matplotlib.pyplot as plt\n",
    "\n",
    "img = misc.imread('mermaid.png', mode='F')\n",
    "\n",
    "pyramid_image = img # change this!\n",
    "# FIXME: put your code here!\n",
    "\n",
    "plt.gray()\n",
    "plt.imshow(pyramid_image)\n",
    "plt.show()"
   ]
  },
  {
   "cell_type": "markdown",
   "metadata": {},
   "source": [
    "## Assignment 2: Texture Segmentation [6 Points]"
   ]
  },
  {
   "cell_type": "markdown",
   "metadata": {},
   "source": [
    "**a)** What is texture? Try to define it in your own words. Can there be a standard definition? What problems do you expect for texture based segmentation? "
   ]
  },
  {
   "cell_type": "raw",
   "metadata": {
    "collapsed": true,
    "solution": true
   },
   "source": [
    "Texture is a perceptible pattern with distinct visual regularity. It can be approximated, but perhaps not defined, mathematically as periodic functions, ie, as a sum of trigonometric functions. Texture based segmentation is difficult because pixels are not discretely assignable to labels."
   ]
  },
  {
   "cell_type": "markdown",
   "metadata": {},
   "source": [
    "**b)** What is a co-occurence matrix? How can it be used to characterize texture?"
   ]
  },
  {
   "cell_type": "raw",
   "metadata": {
    "collapsed": true,
    "solution": true
   },
   "source": [
    "It comparable to an auto-correlation matrix. It can be used to characterize texture by assigning similar, clustered regions with the same label."
   ]
  },
  {
   "cell_type": "markdown",
   "metadata": {},
   "source": [
    "**c)** Implement a function to compute the co-occurence matrix of an image (patch). Apply it and compare your results to (CV-07 slide 54)."
   ]
  },
  {
   "cell_type": "code",
   "execution_count": null,
   "metadata": {
    "collapsed": false
   },
   "outputs": [],
   "source": [
    "import numpy as np\n",
    "from scipy import misc\n",
    "import matplotlib.pyplot as plt\n",
    "\n",
    "img = misc.imread('mermaid.png', mode='L')\n",
    "\n",
    "def get_patch(img, x, y, size = 40):\n",
    "    \"\"\"\n",
    "    Extract a rectangular patch from an image and mark it in the original image.\n",
    "    \"\"\"\n",
    "    result = img[x:x+size,y:y+size].copy()\n",
    "    img[x:x+size, [y,y+1,y+size,y+size+1]] = 0\n",
    "    img[[x,x+1,x+size,x+size+1], y:y+size] = 0\n",
    "    return result\n",
    "\n",
    "patches = []\n",
    "patches.append(get_patch(img, 50,130))\n",
    "patches.append(get_patch(img, 110,80))\n",
    "patches.append(get_patch(img, 260,340))\n",
    "patches.append(get_patch(img, 310,110))\n",
    "patches.append(get_patch(img, 100,440))\n",
    "\n",
    "\n",
    "def cooccurrence(img, dx = 1, dy = 1):\n",
    "    \"\"\"\n",
    "    Compute a co-occurence matrix for the given image.\n",
    "    \n",
    "    Args:\n",
    "        img          the grayscale image (uint8)\n",
    "        dx,dy        the offset between the two reference points\n",
    "\n",
    "    Returns:\n",
    "        matrix       the co-occurence matrix\n",
    "    \"\"\"\n",
    "    matrix = np.empty((256,256))\n",
    "    # FIXME: put your code here!\n",
    "\n",
    "    return matrix\n",
    "\n",
    "\n",
    "plt.figure(figsize=(12, 12))\n",
    "plt.gray()\n",
    "plt.imshow(img)\n",
    "plt.show()\n",
    "\n",
    "\n",
    "plt.figure(figsize=(12, 12))\n",
    "i = 0\n",
    "for p in patches:\n",
    "    plt.subplot(len(patches),3,i+1); plt.axis('off'); plt.imshow(p)\n",
    "    plt.subplot(len(patches),3,i+2); plt.imshow(cooccurrence(p,1,0))\n",
    "    plt.subplot(len(patches),3,i+3); plt.imshow(cooccurrence(p,0,1))\n",
    "    i += 3\n",
    "plt.show()"
   ]
  },
  {
   "cell_type": "markdown",
   "metadata": {},
   "source": [
    "## Assignment 3: Region merging [6 Points]\n",
    "\n",
    "Implement the *region merging* algorithm (CV-07 slide 39) and apply it to the image `segments.png` (or some part of it). Use a simple *homogeneity condition*, e.g. that the maximal difference between gray values in a segment is not larger than a given threshold."
   ]
  },
  {
   "cell_type": "code",
   "execution_count": null,
   "metadata": {
    "collapsed": true
   },
   "outputs": [],
   "source": [
    "# FIXME: put your code here!\n"
   ]
  }
 ],
 "metadata": {
  "anaconda-cloud": {},
  "kernelspec": {
   "display_name": "Python [default]",
   "language": "python",
   "name": "python3"
  },
  "language_info": {
   "codemirror_mode": {
    "name": "ipython",
    "version": 3
   },
   "file_extension": ".py",
   "mimetype": "text/x-python",
   "name": "python",
   "nbconvert_exporter": "python",
   "pygments_lexer": "ipython3",
   "version": "3.5.2"
  }
 },
 "nbformat": 4,
 "nbformat_minor": 1
}
