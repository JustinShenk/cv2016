{
 "cells": [
  {
   "cell_type": "markdown",
   "metadata": {},
   "source": [
    "Osnabrück University - Computer Vision (Winter Term 2016/17) - Prof. Dr.-Ing. G. Heidemann, Ulf Krumnack"
   ]
  },
  {
   "cell_type": "markdown",
   "metadata": {},
   "source": [
    "# Exercise Sheet 04: Basic Operations - Segmentation¶"
   ]
  },
  {
   "cell_type": "markdown",
   "metadata": {},
   "source": [
    "## Introduction\n",
    "\n",
    "This week's sheet should be solved and handed in before the end of **Sunday, December 4, 2016**. If you need help (and Google and other resources were not enough), feel free to contact your groups' designated tutor or whomever of us you run into first. Please upload your results to your group's Stud.IP folder."
   ]
  },
  {
   "cell_type": "markdown",
   "metadata": {},
   "source": [
    "## Assignment 0: Math recap (the exponential function) [0 Points]\n",
    "\n",
    "This exercise is supposed to be very easy, does not give any points, and is voluntary. There will be a similar exercise on every sheet. It is intended to revise some basic mathematical notions that are assumed throughout this class and to allow you to check if you are comfortable with them. Usually you should have no problem to answer these questions offhand, but if you feel unsure, this is a good time to look them up again. You are always welcome to discuss questions with the tutors or in the practice session. Also, if you have a (math) topic you would like to recap, please let us know."
   ]
  },
  {
   "cell_type": "markdown",
   "metadata": {},
   "source": [
    "**a)** What is an *exponential function*? How can it be characterized? What is special about $e^x$?"
   ]
  },
  {
   "cell_type": "markdown",
   "metadata": {
    "collapsed": true,
    "solution": true
   },
   "source": [
    "Exponential function is a taking a number to the power of another number n - multiplying it times itself n times. What is special"
   ]
  },
  {
   "cell_type": "markdown",
   "metadata": {},
   "source": [
    "**b)** How is the exponential function defined for complex arguments? In what way(s) does this generalize the real case?"
   ]
  },
  {
   "cell_type": "raw",
   "metadata": {
    "collapsed": true,
    "solution": true
   },
   "source": []
  },
  {
   "cell_type": "markdown",
   "metadata": {},
   "source": [
    "**c)** The complex exponential function allows to define a mapping $\\mathbb{R}\\to\\mathbb{C}$ by $x\\mapsto e^{ix}$? How does the graph of this mapping look like? Where are the points $e^{2\\pi i\\frac mn}$ for $m=0,...,n\\in\\mathbb{N}$ located on this graph?"
   ]
  },
  {
   "cell_type": "raw",
   "metadata": {
    "collapsed": true,
    "solution": true
   },
   "source": [
    "FIXME: change cell type to 'Markdown' and put your answer here!"
   ]
  },
  {
   "cell_type": "markdown",
   "metadata": {},
   "source": [
    "## Assignment 1: Histogram-based segmentation [6 Points]"
   ]
  },
  {
   "cell_type": "markdown",
   "metadata": {},
   "source": [
    "### a) Histogram-based segmentation\n",
    "\n",
    "What is histogram-based segmentation? What are it's goals, benefits, and problems?"
   ]
  },
  {
   "cell_type": "markdown",
   "metadata": {
    "collapsed": true,
    "solution": true
   },
   "source": [
    "Histogram-based segmentation tries to segment a given image into meaningful segments using the histogram of the image. It tries to find the right treshold to separate parts of the image. A simple example would be the segmentation of the image into the foreground and the background based on the given gray values."
   ]
  },
  {
   "cell_type": "markdown",
   "metadata": {},
   "source": [
    "### b) Threshold computation\n",
    "\n",
    "There exist different methods to automatically determine a threshold for an image. Find at least two that are provided by scipy and describe them in more detail. Then apply them to the images `schrift.png` and `pebbles.jpg`."
   ]
  },
  {
   "cell_type": "markdown",
   "metadata": {
    "collapsed": true,
    "solution": true
   },
   "source": [
    "Example 1: Otsu's method: Otsu’s method calculates an “optimal” threshold by maximizing the variance between two classes of pixels, which are separated by the threshold. (Equivalently, this threshold minimizes the intra-class variance.)\n",
    "Example 2: adaptive treshold: Here, we binarize an image using the threshold_adaptive function, which calculates thresholds in regions of size block_size surrounding each pixel (i.e. local neighborhoods). Each threshold value is the weighted mean of the local neighborhood minus an offset value.\n",
    "Other tresholding options include: Yen, Minimum, Triangle, Li, Isodata and Mean. (source http://scikit-image.org/docs/dev/auto_examples/xx_applications/plot_thresholding.html)"
   ]
  },
  {
   "cell_type": "code",
   "execution_count": null,
   "metadata": {
    "collapsed": false
   },
   "outputs": [],
   "source": [
    "from scipy import misc\n",
    "from skimage.filters import threshold_otsu\n",
    "import matplotlib.pyplot as plt\n",
    "\n",
    "img = misc.imread('schrift.png', mode = 'L') # 'schrift.png' or 'pebbles.jpg'\n",
    "\n",
    "segments = img\n",
    "\n",
    "thresh = threshold_otsu(img)\n",
    "binary = img > thresh\n",
    "segments = binary\n",
    "\n",
    "plt.figure(figsize=(10, 10))\n",
    "plt.gray()\n",
    "plt.subplot(3,1,1); plt.axis('off'); plt.imshow(img)\n",
    "plt.subplot(3,1,2); plt.hist(img.flatten(),256,(0,255))\n",
    "plt.subplot(3,1,3); plt.axis('off'); plt.imshow(segments)\n",
    "plt.show()"
   ]
  },
  {
   "cell_type": "markdown",
   "metadata": {},
   "source": [
    "### c) Shading\n",
    "\n",
    "Shading may cause a problem to histogram based segmentation. In the lecture (CV-07 slide 13), it was proposed to compute a shading image to deal with that problem. Apply this approach to the images `schrift.png` and `pebbles.jpg`.\n"
   ]
  },
  {
   "cell_type": "code",
   "execution_count": null,
   "metadata": {
    "collapsed": false,
    "scrolled": false
   },
   "outputs": [],
   "source": [
    "import numpy as np\n",
    "from skimage.filters import rank\n",
    "from scipy.interpolate import interp1d\n",
    "img = misc.imread('schrift.png', mode = 'L') # 'schrift.png' or 'pebbles.jpg'\n",
    "selem = np.ones((15,15))\n",
    "\n",
    "# Median filter.\n",
    "ranked_img = rank.median(img, selem)\n",
    "print(ranked_img[0:5][0:5])\n",
    "shading_function = 1 / ranked_img\n",
    "print(shading_function[0:5][0:5])\n",
    "better_img = img * shading_function\n",
    "print(better_img[0:5][0:5])\n",
    "normalized_img = ((better_img - np.amin(better_img))*((255.0-0)/(np.amax(better_img)-np.amin(better_img))))\n",
    "\n",
    "plt.title('Background Image')\n",
    "plt.imshow(ranked_img)\n",
    "plt.show()\n",
    "plt.title('Shading function')\n",
    "plt.imshow(shading_function)\n",
    "plt.show()\n",
    "plt.title('Better Image')\n",
    "plt.imshow(better_img,vmax=1)\n",
    "plt.show()\n",
    "plt.title('Original')\n",
    "plt.imshow(img)\n",
    "plt.show()"
   ]
  },
  {
   "cell_type": "markdown",
   "metadata": {},
   "source": [
    "## Assignment 2: Edge-based segmentation  [6 Points]\n",
    "\n",
    "\n"
   ]
  },
  {
   "cell_type": "markdown",
   "metadata": {},
   "source": [
    "### a) Edge linking\n",
    "\n",
    "Describe in your own words the idea of edge linking. What is the goal? Why does it not necessarily yield closed\n",
    "edge contours?"
   ]
  },
  {
   "cell_type": "raw",
   "metadata": {
    "collapsed": true,
    "solution": true
   },
   "source": [
    "Edge linking involves searching perpendicular to a threshold gradient filtered image, sequentially adding pixels to the edges that connect to other edges."
   ]
  },
  {
   "cell_type": "markdown",
   "metadata": {},
   "source": [
    "### b) Zero crossings\n",
    "\n",
    "Explain what zero crossings are. Why does the detection of zero crossings always lead to closed contours?"
   ]
  },
  {
   "cell_type": "raw",
   "metadata": {
    "collapsed": true,
    "solution": true
   },
   "source": [
    "Zero crossings are edges defined by crossing of pixel values from positive to negative, usually after application of the Laplacian filter."
   ]
  },
  {
   "cell_type": "markdown",
   "metadata": {},
   "source": [
    "### c) Zero crossings (implementation)\n",
    "\n",
    "Provide an implementation of the zero crossing procedure described in (CV-07 slide 71). To get sensible results you should smooth the image before applying the Laplacian filter, e.g. using the Laplacian of a Gaussian (you may use buildins for the filterings steps)."
   ]
  },
  {
   "cell_type": "code",
   "execution_count": null,
   "metadata": {
    "collapsed": false
   },
   "outputs": [],
   "source": [
    "import numpy as np\n",
    "a = np.array([[1,-1,2,2,-1]])\n",
    "# np.where(np.diff(np.arange(4)))\n",
    "zero_crossings = np.where(np.diff(np.signbit(a)))[1]\n",
    "print(zero_crossings)"
   ]
  },
  {
   "cell_type": "code",
   "execution_count": null,
   "metadata": {
    "collapsed": false
   },
   "outputs": [],
   "source": [
    "import numpy as np\n",
    "from scipy import misc\n",
    "from scipy.ndimage.filters import gaussian_laplace\n",
    "import matplotlib.pyplot as plt\n",
    "from sklearn.preprocessing import scale\n",
    "\n",
    "img = misc.imread('swampflower.png', mode = 'F')\n",
    "\n",
    "# Now compute edges and then zero crossings using the 4-neighborhood and the 8-neighborhood\n",
    "edges = gaussian_laplace(img,sigma=3)\n",
    "# sum(1 for i in range(0, len(a)-1) if a[i]*next((j for j in a[i+1:] if j != 0), 0) < 0)\n",
    "zeros = np.zeros(edges.shape)\n",
    "kernel = np.array([[0,0,0],[0,0,1]])\n",
    "def zero_crossing(neighborhood=4):\n",
    "    zero_crossings = zeros.copy()\n",
    "    for rowIndex,row in enumerate(edges):\n",
    "        for colIndex,pixel in enumerate(row):\n",
    "                if rowIndex+ 1 < len(img) and colIndex +1 < len(row):\n",
    "                    if np.sign(pixel) != np.sign(edges[rowIndex,colIndex+1]):\n",
    "                        zero_crossings[rowIndex,colIndex] = 1\n",
    "                    if np.sign(pixel) != np.sign(edges[rowIndex+1,colIndex]):\n",
    "                        zero_crossings[rowIndex,colIndex] = 1\n",
    "                if neighborhood == 8 and rowIndex+1 < len(img) and colIndex+1 < len(row):\n",
    "                    if np.sign(pixel) != np.sign(edges[rowIndex+1,colIndex+1]):\n",
    "                        zero_crossings[rowIndex,colIndex] = 1\n",
    "                    if np.sign(pixel) != np.sign(edges[rowIndex-1,colIndex+1]):\n",
    "                        zero_crossings[rowIndex,colIndex] = 1\n",
    "    return zero_crossings\n",
    "\n",
    "zero_crossings_n4 = zero_crossing(4)\n",
    "zero_crossings_n8 = zero_crossing(8)\n",
    "\n",
    "plt.figure(figsize=(12, 12))\n",
    "plt.gray()\n",
    "\n",
    "plt.subplot(2,2,1)\n",
    "plt.axis('off')\n",
    "plt.title('Original Image')\n",
    "plt.imshow(img)\n",
    "\n",
    "plt.subplot(2,2,2)\n",
    "plt.axis('off')\n",
    "plt.title('Edges')\n",
    "plt.imshow(edges)\n",
    "\n",
    "plt.subplot(2,2,3)\n",
    "plt.axis('off')\n",
    "plt.title('zero_crossings_n4')\n",
    "plt.imshow(zero_crossings_n4)\n",
    "\n",
    "plt.subplot(2,2,4)\n",
    "plt.axis('off')\n",
    "plt.title('zero_crossings_n8')\n",
    "plt.imshow(zero_crossings_n8)\n",
    "\n",
    "plt.show()"
   ]
  },
  {
   "cell_type": "markdown",
   "metadata": {},
   "source": [
    "## Assignment 3: Watershed transform  [8 Points]\n",
    "\n"
   ]
  },
  {
   "cell_type": "markdown",
   "metadata": {},
   "source": [
    "### a) Watershed transform\n",
    "\n",
    "Explain in your own words the idea of watershed transform. How do the two different approaches from the lecture work? Why does watershed transform always give a closed contour?\n",
    "\n"
   ]
  },
  {
   "cell_type": "raw",
   "metadata": {
    "collapsed": true,
    "solution": true
   },
   "source": [
    "Using the first gradients of gray values, find and label the subspaces that share a minimal local maximum boundary as continguous. Watershed transform always gives a closed contour because it uses local, rather than global maximum."
   ]
  },
  {
   "cell_type": "markdown",
   "metadata": {},
   "source": [
    "### b) Implementation\n",
    "\n",
    "Now implement the watershed transform using the flooding approach (CV-07 slide 76). Obviously, buildins for computing watershed transform are not allowed, but all other functions may be used."
   ]
  },
  {
   "cell_type": "code",
   "execution_count": null,
   "metadata": {
    "collapsed": false,
    "scrolled": true
   },
   "outputs": [],
   "source": [
    "import numpy as np\n",
    "from scipy import misc\n",
    "import matplotlib.pyplot as plt\n",
    "\n",
    "\n",
    "def watershed(img, step = 1):\n",
    "    \"\"\"\n",
    "    Perform watershed transform on a grayscale image.\n",
    "    \n",
    "    Args:\n",
    "        img          the grayscale image\n",
    "        \n",
    "    Returns:\n",
    "        A binary image containing the watersheds.\n",
    "    \"\"\"\n",
    "\n",
    "    NO_LABEL = 0\n",
    "    WATERSHED = NO_LABEL + 1\n",
    "    NEW_LABEL = NO_LABEL + 2\n",
    "    h=0\n",
    "\n",
    "    # Gradient image.\n",
    "    gradient =  np.gradient(img)[0] + np.gradient(img)[1]\n",
    "    \n",
    "    # Initialize labels as \"no label\".\n",
    "    label = np.zeros(img.shape, np.uint16)\n",
    "    kernel = np.array([[1,1,1],[1,0,1],[1,1,1]])\n",
    "    labelCounter = 3\n",
    "    maxGradient = np.amax(gradient)\n",
    "    while h < maxGradient:\n",
    "        for rowIndex,row in enumerate(gradient):\n",
    "            for colIndex,pixel in enumerate(row):\n",
    "                # Exclude boundary pixels.\n",
    "#                 label[0,:] = 2\n",
    "#                 label[:,0] = 2\n",
    "#                 label[len(gradient)-1,:] =2\n",
    "#                 label[:,len(row)-1] =2\n",
    "                if rowIndex > 0 and rowIndex+1 < len(gradient) and colIndex > 0 and colIndex+1 < len(row):                    \n",
    "                    if h >= pixel and label[rowIndex,colIndex] == 0:                    \n",
    "#                         labels = [label[rowIndex-1,colIndex],label[rowIndex-1,colIndex-1],label[rowIndex-1,colIndex+1],label[rowIndex,colIndex+1],label[rowIndex+1,colIndex+1],label[rowIndex+1,colIndex],label[rowIndex+1,colIndex-1],label[rowIndex,colIndex-1]]\n",
    "                        # Two-neighbor range.\n",
    "                        labels = [label[rowIndex,colIndex+1],label[rowIndex+1,colIndex]]\n",
    "#                         labels = gradient[rowIndex-1:rowIndex+1,colIndex-1:colIndex+1] * kernel[kernel==1]\n",
    "                        \n",
    "                        # First case - no neighbor pixels have labels.\n",
    "                        if all(l == 0 for l in labels):\n",
    "                            # Create first label in region.\n",
    "                            label[rowIndex,colIndex] = NEW_LABEL\n",
    "                        # Second case - one non-zero label in neighborhood.\n",
    "                        elif len(set([i for i in labels if i > 0])) == 1:\n",
    "                            # Assign non-zero label of neighbor(s).\n",
    "                            label[rowIndex,colIndex] = labelCounter\n",
    "                            labelCounter +=1\n",
    "                        # Third case - multiple non-zero labels in neighborhood.\n",
    "                        elif len(set([i for i in labels if i > 0])) > 1:\n",
    "                            # Watershed.\n",
    "                            label[rowIndex,colIndex] = WATERSHED\n",
    "        h += step\n",
    "                            \n",
    "    return label\n",
    "\n",
    "img = misc.imread('dist_circles.png', mode = 'L')\n",
    "\n",
    "# print(np.gradient(img))\n",
    "plt.gray()\n",
    "plt.subplot(1,2,1)\n",
    "plt.axis('off')\n",
    "plt.imshow(img)\n",
    "\n",
    "plt.subplot(1,2,2)\n",
    "plt.axis('off')\n",
    "water = watershed(img)\n",
    "plt.imshow(water)\n",
    "plt.show()\n",
    "print(water[0:5,0:3])"
   ]
  },
  {
   "cell_type": "code",
   "execution_count": null,
   "metadata": {
    "collapsed": false
   },
   "outputs": [],
   "source": [
    "import numpy as np\n",
    "from scipy import misc\n",
    "import matplotlib.pyplot as plt\n",
    "img = misc.imread('dist_circles.png', mode = 'L')\n",
    "gradient = abs(np.gradient(img)[0]+np.gradient(img)[1])\n",
    "a = np.array([[0,1,2],[1,2,3],[2,3,4]])\n",
    "# b = [0,1,2,3]\n",
    "# new = [i for i in b if i > 1]\n",
    "print(new[0])\n",
    "# new = [0, 0, 0, 0, 0, 0, 0, 0]\n",
    "# print(all(v == 0 for v in new))\n",
    "print(np.gradient(a))\n",
    "plt.imshow(np.gradient(a)[0],vmin=0,vmax=1)\n",
    "plt.show()"
   ]
  },
  {
   "cell_type": "markdown",
   "metadata": {},
   "source": [
    "### c) Application: maze\n",
    "\n",
    "You can use watershed transform to find your way through a maze. To do so, first apply a distance transform to the maze and the flood the result. The watershed will show you the way through the maze. Explain why this works."
   ]
  },
  {
   "cell_type": "code",
   "execution_count": null,
   "metadata": {
    "collapsed": false
   },
   "outputs": [],
   "source": [
    "from scipy import misc\n",
    "import matplotlib.pyplot as plt\n",
    "from scipy.ndimage.morphology import distance_transform_edt\n",
    "\n",
    "img = misc.imread('maze2.png', mode = 'L') # 'maze1.png' or 'maze2.png'\n",
    "\n",
    "result = img[:,:,np.newaxis].repeat(3, 2)\n",
    "plt.imshow(result)\n",
    "plt.show()\n",
    "dte = distance_transform_edt(img)\n",
    "plt.imshow(dte)\n",
    "plt.show()\n",
    "wshed = watershed(dte)\n",
    "plt.imshow(wshed)\n",
    "plt.show()\n",
    "print(wshed[0:2])\n",
    "result[wshed,1:3] = 0\n",
    "\n",
    "plt.figure(figsize=(10, 10))\n",
    "plt.title('Solution')\n",
    "plt.axis('off')\n",
    "plt.gray()\n",
    "plt.imshow(result)\n",
    "plt.show()\n"
   ]
  },
  {
   "cell_type": "raw",
   "metadata": {
    "collapsed": true,
    "solution": true
   },
   "source": [
    "FIXME: change cell type to 'Markdown' and put your answer here!"
   ]
  }
 ],
 "metadata": {
  "anaconda-cloud": {},
  "kernelspec": {
   "display_name": "Python [default]",
   "language": "python",
   "name": "python3"
  },
  "language_info": {
   "codemirror_mode": {
    "name": "ipython",
    "version": 3
   },
   "file_extension": ".py",
   "mimetype": "text/x-python",
   "name": "python",
   "nbconvert_exporter": "python",
   "pygments_lexer": "ipython3",
   "version": "3.5.2"
  }
 },
 "nbformat": 4,
 "nbformat_minor": 1
}
