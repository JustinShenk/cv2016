{
 "cells": [
  {
   "cell_type": "markdown",
   "metadata": {},
   "source": [
    "Osnabrück University - Computer Vision (Winter Term 2016/17) - Prof. Dr.-Ing. G. Heidemann, Ulf Krumnack"
   ]
  },
  {
   "cell_type": "markdown",
   "metadata": {},
   "source": [
    "# Exercise Sheet 09: Local Features"
   ]
  },
  {
   "cell_type": "markdown",
   "metadata": {},
   "source": [
    "## Introduction\n",
    "\n",
    "This week's sheet should be solved and handed in before the end of **Sunday, January 29, 2017**. If you need help (and Google and other resources were not enough), feel free to contact your groups' designated tutor or whomever of us you run into first. Please upload your results to your group's Stud.IP folder."
   ]
  },
  {
   "cell_type": "markdown",
   "metadata": {},
   "source": [
    "## Exercise 1 (Local features – 8p)"
   ]
  },
  {
   "cell_type": "markdown",
   "metadata": {},
   "source": [
    "**a)** Explain in your own words what *local features* are how they are used."
   ]
  },
  {
   "cell_type": "raw",
   "metadata": {
    "collapsed": true,
    "solution": true
   },
   "source": [
    "FIXME: change cell type to 'Markdown' and put your answer here!"
   ]
  },
  {
   "cell_type": "markdown",
   "metadata": {},
   "source": [
    "**b)** Explain the idea of SIFT and describe the main steps. How do these steps contribute the the properties of the features."
   ]
  },
  {
   "cell_type": "raw",
   "metadata": {
    "collapsed": true,
    "solution": true
   },
   "source": [
    "FIXME: change cell type to 'Markdown' and put your answer here!"
   ]
  },
  {
   "cell_type": "markdown",
   "metadata": {},
   "source": [
    "**c)** Explain the idea of rectangle features. How are they computed? What is an integral image?"
   ]
  },
  {
   "cell_type": "raw",
   "metadata": {
    "collapsed": true,
    "solution": true
   },
   "source": [
    "FIXME: change cell type to 'Markdown' and put your answer here!"
   ]
  },
  {
   "cell_type": "markdown",
   "metadata": {},
   "source": [
    "**d)** Compare SIFT and rectangle features. Name pros and cons."
   ]
  },
  {
   "cell_type": "raw",
   "metadata": {
    "collapsed": true,
    "solution": true
   },
   "source": [
    "FIXME: change cell type to 'Markdown' and put your answer here!"
   ]
  },
  {
   "cell_type": "markdown",
   "metadata": {},
   "source": [
    "## Exercise 2 (SIFT – 12p)\n",
    "\n",
    "Implementation of SIFT keypoint detection. Use the image `img.png` for testing."
   ]
  },
  {
   "cell_type": "markdown",
   "metadata": {},
   "source": [
    "**a)** Calculate the scale space for an image $I$ (no built-ins allowed). Calculate 4 octaves with 5 scales each. For the calculation of one octave proceed as follows:\n",
    "Smooth the image with $\\sigma_0 = 0.5$ with a kernel size of $\\operatorname{ceil}(4\\cdot\\sigma_0)$. This is the first image of the octave. For the calculation of the other scale images ($i = 1,\\ldots,4$), the value of $\\sigma$ is calculated as $\\sigma_i=k_i\\cdot\\sigma_0$ with $k = 2$ and kernel size $\\operatorname{ceil}(4\\cdot\\sigma_i)$."
   ]
  },
  {
   "cell_type": "code",
   "execution_count": null,
   "metadata": {
    "collapsed": true
   },
   "outputs": [],
   "source": [
    "# FIXME: put your code here!\n"
   ]
  },
  {
   "cell_type": "markdown",
   "metadata": {},
   "source": [
    "**b)** Calculate the Difference of Gaussian images from the scale space for each octave\n",
    "($DoG_{i−1} = G(x,y,\\sigma_i) − G(x,y,σ_{i−1})$), where $G(x,y,\\sigma_i)$ is the Gaussian smoothed image with kernel $\\sigma_i$. The result will be 4 DoG images per octave."
   ]
  },
  {
   "cell_type": "code",
   "execution_count": null,
   "metadata": {
    "collapsed": true
   },
   "outputs": [],
   "source": [
    "# FIXME: put your code here!\n"
   ]
  },
  {
   "cell_type": "markdown",
   "metadata": {},
   "source": [
    "**c)** Detect extrema in the DoG images. Check every pixel in the DoG images and compare it to all its neighbors (surrounding, as well as those neighbors in the adjacent DoG images). This is a total of 26 comparisons. If the pixel is greater than or less than all its neighbors, it is a possible keypoint. This check is not performed for the top- and lowermost DoG images within each octave, because there are not enough neighbors."
   ]
  },
  {
   "cell_type": "code",
   "execution_count": null,
   "metadata": {
    "collapsed": true
   },
   "outputs": [],
   "source": [
    "# FIXME: put your code here!\n"
   ]
  },
  {
   "cell_type": "markdown",
   "metadata": {},
   "source": [
    "**d)** Actually, we would have to calculate subpixel locations now, but we will omit that part. Instead we will remove keypoints that lie on edges. This procedure is similar to that of the Harris corner detector, however, in the following the Hessian matrix is used. Calculate the Hessian matrix of the DoG images on which (possible) keypoints were found. \n",
    "If $\\operatorname{Tr}(H)^2/\\operatorname{det}(H) > (r + 1)^2/r$, with $\\operatorname{Tr}(H) = D_{xx} + D_{yy}$ and $\\operatorname{det}(H) = D_{xx} D_{yy} − D_{xy}$ then the keypoint is rejected. Find a suitable value for $r$."
   ]
  },
  {
   "cell_type": "code",
   "execution_count": null,
   "metadata": {
    "collapsed": true
   },
   "outputs": [],
   "source": [
    "# FIXME: put your code here!\n"
   ]
  },
  {
   "cell_type": "markdown",
   "metadata": {},
   "source": [
    "**e)** Keypoints are also rejected if their magnitude in the DoG image is less than a threshold\n",
    "(find a good threshold yourself)."
   ]
  },
  {
   "cell_type": "code",
   "execution_count": null,
   "metadata": {
    "collapsed": true
   },
   "outputs": [],
   "source": [
    "# FIXME: put your code here!\n"
   ]
  },
  {
   "cell_type": "markdown",
   "metadata": {},
   "source": [
    "**f)** Display the remaining keypoints on the image."
   ]
  },
  {
   "cell_type": "code",
   "execution_count": null,
   "metadata": {
    "collapsed": true
   },
   "outputs": [],
   "source": [
    "# FIXME: put your code here!\n"
   ]
  }
 ],
 "metadata": {
  "kernelspec": {
   "display_name": "Python 3",
   "language": "python",
   "name": "python3"
  },
  "language_info": {
   "codemirror_mode": {
    "name": "ipython",
    "version": 3
   },
   "file_extension": ".py",
   "mimetype": "text/x-python",
   "name": "python",
   "nbconvert_exporter": "python",
   "pygments_lexer": "ipython3",
   "version": "3.5.2"
  }
 },
 "nbformat": 4,
 "nbformat_minor": 1
}
